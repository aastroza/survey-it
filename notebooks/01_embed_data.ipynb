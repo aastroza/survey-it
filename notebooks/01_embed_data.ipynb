{
 "cells": [
  {
   "cell_type": "code",
   "execution_count": 3,
   "metadata": {},
   "outputs": [
    {
     "name": "stdout",
     "output_type": "stream",
     "text": [
      "The autoreload extension is already loaded. To reload it, use:\n",
      "  %reload_ext autoreload\n"
     ]
    }
   ],
   "source": [
    "import sys\n",
    "sys.path.append('..')\n",
    "from dotenv import load_dotenv\n",
    "load_dotenv()\n",
    "%load_ext autoreload\n",
    "%autoreload 2"
   ]
  },
  {
   "cell_type": "code",
   "execution_count": 20,
   "metadata": {},
   "outputs": [],
   "source": [
    "import pandas as pd\n",
    "\n",
    "from src.embed import get_embedding\n",
    "from src.utils import read_all_json"
   ]
  },
  {
   "cell_type": "code",
   "execution_count": 25,
   "metadata": {},
   "outputs": [],
   "source": [
    "data = read_all_json('../data/raw/roundtable')"
   ]
  },
  {
   "cell_type": "code",
   "execution_count": 26,
   "metadata": {},
   "outputs": [
    {
     "data": {
      "text/html": [
       "<div>\n",
       "<style scoped>\n",
       "    .dataframe tbody tr th:only-of-type {\n",
       "        vertical-align: middle;\n",
       "    }\n",
       "\n",
       "    .dataframe tbody tr th {\n",
       "        vertical-align: top;\n",
       "    }\n",
       "\n",
       "    .dataframe thead th {\n",
       "        text-align: right;\n",
       "    }\n",
       "</style>\n",
       "<table border=\"1\" class=\"dataframe\">\n",
       "  <thead>\n",
       "    <tr style=\"text-align: right;\">\n",
       "      <th></th>\n",
       "      <th>isPanel</th>\n",
       "      <th>surveyCountry</th>\n",
       "      <th>surveyQuestion</th>\n",
       "      <th>surveyAnswers</th>\n",
       "      <th>customQuestionsAndResponses</th>\n",
       "      <th>surveyDescriptions</th>\n",
       "      <th>surveyData</th>\n",
       "      <th>surveyModel</th>\n",
       "    </tr>\n",
       "  </thead>\n",
       "  <tbody>\n",
       "    <tr>\n",
       "      <th>0</th>\n",
       "      <td>False</td>\n",
       "      <td>United States</td>\n",
       "      <td>Do you exercise every day?</td>\n",
       "      <td>[Yes, No]</td>\n",
       "      <td>[{'questionType': 'Multiple choice', 'question...</td>\n",
       "      <td>[Keto diet last year]</td>\n",
       "      <td>[{'Yes': 0.3465346534653465, 'No': 0.653465346...</td>\n",
       "      <td>GSS-v1.1</td>\n",
       "    </tr>\n",
       "    <tr>\n",
       "      <th>1</th>\n",
       "      <td>False</td>\n",
       "      <td>United States</td>\n",
       "      <td>Which type of vehicle are you most interested ...</td>\n",
       "      <td>[Sedan, SUV, Crossover, Pickup truck, Minivan,...</td>\n",
       "      <td>[{'question': 'Do you have a valid driver's li...</td>\n",
       "      <td>[Owns a powerboat]</td>\n",
       "      <td>[{'Minivan': 0.049999999999999996, 'Pickup tru...</td>\n",
       "      <td>GSS-v1.0</td>\n",
       "    </tr>\n",
       "    <tr>\n",
       "      <th>2</th>\n",
       "      <td>False</td>\n",
       "      <td>United States</td>\n",
       "      <td>What do you think is the ideal number of child...</td>\n",
       "      <td>[None, 1, 2, 3, 4, 5 or more]</td>\n",
       "      <td>[]</td>\n",
       "      <td>[]</td>\n",
       "      <td>[{'1': 0.14814814814814814, '2': 0.49382716049...</td>\n",
       "      <td>GSS-v1.0</td>\n",
       "    </tr>\n",
       "    <tr>\n",
       "      <th>3</th>\n",
       "      <td>False</td>\n",
       "      <td>United States</td>\n",
       "      <td>Company X is a company that uses AI to simulat...</td>\n",
       "      <td>[Raven, Roundtable, Centipede]</td>\n",
       "      <td>[]</td>\n",
       "      <td>[Works in market research]</td>\n",
       "      <td>[{'Raven': 0.3500000000000001, 'Centipede': 0....</td>\n",
       "      <td>GSS-v1.0</td>\n",
       "    </tr>\n",
       "    <tr>\n",
       "      <th>4</th>\n",
       "      <td>False</td>\n",
       "      <td>United States</td>\n",
       "      <td>Which of the following factors is most importa...</td>\n",
       "      <td>[Low price, Access to a direct flight, Reputat...</td>\n",
       "      <td>[]</td>\n",
       "      <td>[]</td>\n",
       "      <td>[{'Legroom / seat comfort': 0.0499999999999999...</td>\n",
       "      <td>GSS-v1.0</td>\n",
       "    </tr>\n",
       "  </tbody>\n",
       "</table>\n",
       "</div>"
      ],
      "text/plain": [
       "   isPanel  surveyCountry                                     surveyQuestion  \\\n",
       "0    False  United States                         Do you exercise every day?   \n",
       "1    False  United States  Which type of vehicle are you most interested ...   \n",
       "2    False  United States  What do you think is the ideal number of child...   \n",
       "3    False  United States  Company X is a company that uses AI to simulat...   \n",
       "4    False  United States  Which of the following factors is most importa...   \n",
       "\n",
       "                                       surveyAnswers  \\\n",
       "0                                          [Yes, No]   \n",
       "1  [Sedan, SUV, Crossover, Pickup truck, Minivan,...   \n",
       "2                      [None, 1, 2, 3, 4, 5 or more]   \n",
       "3                     [Raven, Roundtable, Centipede]   \n",
       "4  [Low price, Access to a direct flight, Reputat...   \n",
       "\n",
       "                         customQuestionsAndResponses  \\\n",
       "0  [{'questionType': 'Multiple choice', 'question...   \n",
       "1  [{'question': 'Do you have a valid driver's li...   \n",
       "2                                                 []   \n",
       "3                                                 []   \n",
       "4                                                 []   \n",
       "\n",
       "           surveyDescriptions  \\\n",
       "0       [Keto diet last year]   \n",
       "1          [Owns a powerboat]   \n",
       "2                          []   \n",
       "3  [Works in market research]   \n",
       "4                          []   \n",
       "\n",
       "                                          surveyData surveyModel  \n",
       "0  [{'Yes': 0.3465346534653465, 'No': 0.653465346...    GSS-v1.1  \n",
       "1  [{'Minivan': 0.049999999999999996, 'Pickup tru...    GSS-v1.0  \n",
       "2  [{'1': 0.14814814814814814, '2': 0.49382716049...    GSS-v1.0  \n",
       "3  [{'Raven': 0.3500000000000001, 'Centipede': 0....    GSS-v1.0  \n",
       "4  [{'Legroom / seat comfort': 0.0499999999999999...    GSS-v1.0  "
      ]
     },
     "execution_count": 26,
     "metadata": {},
     "output_type": "execute_result"
    }
   ],
   "source": [
    "df = pd.DataFrame(data)\n",
    "df.head()"
   ]
  },
  {
   "cell_type": "code",
   "execution_count": 27,
   "metadata": {},
   "outputs": [],
   "source": [
    "df['ada_embedding'] = df['surveyQuestion'].apply(lambda x: get_embedding(x, model='text-embedding-ada-002'))\n",
    "df.to_csv('../data/processed/embedded_questions.csv', index=False)"
   ]
  }
 ],
 "metadata": {
  "kernelspec": {
   "display_name": "survey-it",
   "language": "python",
   "name": "python3"
  },
  "language_info": {
   "codemirror_mode": {
    "name": "ipython",
    "version": 3
   },
   "file_extension": ".py",
   "mimetype": "text/x-python",
   "name": "python",
   "nbconvert_exporter": "python",
   "pygments_lexer": "ipython3",
   "version": "3.11.7"
  }
 },
 "nbformat": 4,
 "nbformat_minor": 2
}
