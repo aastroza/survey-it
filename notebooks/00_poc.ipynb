{
 "cells": [
  {
   "cell_type": "code",
   "execution_count": 1,
   "metadata": {},
   "outputs": [],
   "source": [
    "import sys\n",
    "sys.path.append('..')\n",
    "from dotenv import load_dotenv\n",
    "load_dotenv()\n",
    "%load_ext autoreload\n",
    "%autoreload 2"
   ]
  },
  {
   "cell_type": "code",
   "execution_count": 22,
   "metadata": {},
   "outputs": [],
   "source": [
    "import pandas as pd\n",
    "import textwrap\n",
    "import json\n",
    "\n",
    "from src.generate import generate_questions, rewrite_text, generate_experiment\n",
    "from src.search import get_reference_questions"
   ]
  },
  {
   "cell_type": "markdown",
   "metadata": {},
   "source": [
    "## Survey-it!\n",
    "\n",
    "This Proof of Concept (POC) jupyter notebook is designed to extract actionable insights from a given text and validate these insights with data derived from surveys. It skillfully formulates targeted questions and utilizes a reference database to deepen understanding and corroborate findings with empirical data.\n",
    "\n",
    "The process begins with a short input sentence. Survey-it! then transforms this input into a concise, data-backed blog post styled in the vein of fivethirtyeight.com, ensuring that the output is not only informative but also engaging and grounded in research.\n",
    "\n",
    "<img src=\"../reports/figures/diagram_rag.PNG\" alt=\"sarcasm\" width=\"800\"/>"
   ]
  },
  {
   "cell_type": "markdown",
   "metadata": {},
   "source": [
    "### Input Sentence"
   ]
  },
  {
   "cell_type": "code",
   "execution_count": 84,
   "metadata": {},
   "outputs": [],
   "source": [
    "data = 'The president of United States likes to drink coffee in the morning.'"
   ]
  },
  {
   "cell_type": "markdown",
   "metadata": {},
   "source": [
    "### Synthetic Survey Questions Generation\n",
    "\n",
    "Using `gpt-4-1106-preview` to create syntethic survey questions based on the input text."
   ]
  },
  {
   "cell_type": "code",
   "execution_count": 85,
   "metadata": {},
   "outputs": [],
   "source": [
    "questions = generate_questions(data=data)"
   ]
  },
  {
   "cell_type": "code",
   "execution_count": 86,
   "metadata": {},
   "outputs": [
    {
     "name": "stdout",
     "output_type": "stream",
     "text": [
      "Question 1: Do you typically drink coffee in the morning?\n",
      "Question 2: How influential is the public behavior of the president on your personal habits?\n",
      "Question 3: What is your favorite morning beverage?\n"
     ]
    }
   ],
   "source": [
    "for q in questions.questions:\n",
    "    print(f'Question {q.id}: {q.question}')"
   ]
  },
  {
   "cell_type": "markdown",
   "metadata": {},
   "source": [
    "### Searching for Similar Questions in Reference Database\n",
    "\n",
    "We utilize a small dataset of survey questions embedded using `text-embedding-ada-002`. In this step, we perform semantic text search to retrieve relevant data as context."
   ]
  },
  {
   "cell_type": "code",
   "execution_count": 87,
   "metadata": {},
   "outputs": [],
   "source": [
    "survey_questions = [q.question for q in questions.questions]"
   ]
  },
  {
   "cell_type": "code",
   "execution_count": 88,
   "metadata": {},
   "outputs": [],
   "source": [
    "reference_questions = []\n",
    "\n",
    "for q in survey_questions:\n",
    "    reference_questions.append(get_reference_questions(question=q, n=1, threshold=0.8))"
   ]
  },
  {
   "cell_type": "code",
   "execution_count": 89,
   "metadata": {},
   "outputs": [
    {
     "data": {
      "text/html": [
       "<div>\n",
       "<style scoped>\n",
       "    .dataframe tbody tr th:only-of-type {\n",
       "        vertical-align: middle;\n",
       "    }\n",
       "\n",
       "    .dataframe tbody tr th {\n",
       "        vertical-align: top;\n",
       "    }\n",
       "\n",
       "    .dataframe thead th {\n",
       "        text-align: right;\n",
       "    }\n",
       "</style>\n",
       "<table border=\"1\" class=\"dataframe\">\n",
       "  <thead>\n",
       "    <tr style=\"text-align: right;\">\n",
       "      <th></th>\n",
       "      <th>isPanel</th>\n",
       "      <th>surveyCountry</th>\n",
       "      <th>surveyQuestion</th>\n",
       "      <th>surveyData</th>\n",
       "    </tr>\n",
       "  </thead>\n",
       "  <tbody>\n",
       "    <tr>\n",
       "      <th>0</th>\n",
       "      <td>True</td>\n",
       "      <td>United States</td>\n",
       "      <td>In general, do you prefer hot coffee or iced c...</td>\n",
       "      <td>[{'Hot coffee': 0.73, 'Iced coffee': 0.27}, {'...</td>\n",
       "    </tr>\n",
       "    <tr>\n",
       "      <th>1</th>\n",
       "      <td>True</td>\n",
       "      <td>United States</td>\n",
       "      <td>Do you support the President?</td>\n",
       "      <td>[{'No': 0.45, 'Yes': 0.55}, {'No': 0.14, 'Yes'...</td>\n",
       "    </tr>\n",
       "  </tbody>\n",
       "</table>\n",
       "</div>"
      ],
      "text/plain": [
       "   isPanel  surveyCountry                                     surveyQuestion  \\\n",
       "0     True  United States  In general, do you prefer hot coffee or iced c...   \n",
       "1     True  United States                      Do you support the President?   \n",
       "\n",
       "                                          surveyData  \n",
       "0  [{'Hot coffee': 0.73, 'Iced coffee': 0.27}, {'...  \n",
       "1  [{'No': 0.45, 'Yes': 0.55}, {'No': 0.14, 'Yes'...  "
      ]
     },
     "execution_count": 89,
     "metadata": {},
     "output_type": "execute_result"
    }
   ],
   "source": [
    "reference_questions = (pd.concat(reference_questions)\n",
    "                       .drop_duplicates()\n",
    "                       .reset_index(drop=True)\n",
    "                    )\n",
    "reference_questions"
   ]
  },
  {
   "cell_type": "code",
   "execution_count": 111,
   "metadata": {},
   "outputs": [
    {
     "name": "stdout",
     "output_type": "stream",
     "text": [
      "Reference Question 1 - Survey Country: United States, Survey Year: 2023, Survey Question: In general, do you prefer hot coffee or iced coffee?, Survey Data: {'Hot coffee': 0.6, 'Iced coffee': 0.4}\n",
      "Reference Question 2 - Survey Country: United States, Survey Year: 2023, Survey Question: Do you support the President?, Survey Data: {'No': 0.48, 'Yes': 0.52}\n",
      "\n"
     ]
    }
   ],
   "source": [
    "survey_context = ''\n",
    "\n",
    "for index, row in reference_questions.iterrows():\n",
    "    surveyData_2023 = row['surveyData'].replace('[', '').replace(']', '').split('},')[-1]\n",
    "    survey_context += f\"Reference Question {index+1} - Survey Country: {row['surveyCountry']}, Survey Year: 2023, Survey Question: {row['surveyQuestion']}, Survey Data: {surveyData_2023[1:]}\\n\"\n",
    "\n",
    "print(survey_context)"
   ]
  },
  {
   "cell_type": "markdown",
   "metadata": {},
   "source": [
    "### Output Generation\n",
    "\n",
    "Using `gpt-4-1106-preview` to create a data-backed blog post styled in the vein of fivethirtyeight.com"
   ]
  },
  {
   "cell_type": "code",
   "execution_count": 128,
   "metadata": {},
   "outputs": [],
   "source": [
    "response = rewrite_text(text=data, context=survey_context)"
   ]
  },
  {
   "cell_type": "code",
   "execution_count": 129,
   "metadata": {},
   "outputs": [
    {
     "name": "stdout",
     "output_type": "stream",
     "text": [
      "Picture this: as dawn breaks over the White House, the leader of the free world loves nothing more than to kickstart the day with a good old cup of joe. And while the president's morning ritual might\n",
      "seem as American as tweeting from bed, let's pour over some fresh, piping hot data that gives us the buzz on the nation's coffee preferences.\n",
      "\n",
      "In a recent survey swooping across the States in 2023,\n",
      "when asked about their coffee allegiance, 60% of participants steamed towards hot coffee, leaving iced coffee to chill with the remaining 40%. That's right, despite the trendy cold brews and iced\n",
      "lattes fencing the coffee landscape, it's the classic hot coffee that's still brewing strong in the hearts of American caffeine aficionados.\n",
      "\n",
      "But wait, there's more to stir into this beverage tale.\n",
      "The same year, the nation seems somewhat split on their support for the President, with a narrow 52% leaning in favor, while 48% aren't exactly toasting to their commander-in-chief's health. It's a\n",
      "political pot that's certainly more divisive than the country's coffee preferences.\n",
      "\n",
      "So, next time you see the President taking a solemn sip of their morning pick-me-up, just remember, the temperature\n",
      "of their coffee might align with the majority's hot preference, but the public's view on their leadership? That’s a topic that's not quite as black and white—or should we say, hot and iced—as their\n",
      "coffee choice.\n"
     ]
    }
   ],
   "source": [
    "print(textwrap.fill(response, 200, break_long_words=False, replace_whitespace=False))"
   ]
  },
  {
   "cell_type": "markdown",
   "metadata": {},
   "source": [
    "### Future Work\n",
    "\n",
    "What would happen if the questions recorded in the database are not relevant for uncovering insights derived from the input text?"
   ]
  },
  {
   "cell_type": "code",
   "execution_count": 12,
   "metadata": {},
   "outputs": [],
   "source": [
    "new_data = 'New UFO videos were released by the Pentagon.'"
   ]
  },
  {
   "cell_type": "code",
   "execution_count": 13,
   "metadata": {},
   "outputs": [],
   "source": [
    "new_questions = generate_questions(data=new_data)"
   ]
  },
  {
   "cell_type": "code",
   "execution_count": 14,
   "metadata": {},
   "outputs": [
    {
     "name": "stdout",
     "output_type": "stream",
     "text": [
      "Question 1: Have you watched the new UFO videos released by the Pentagon?\n",
      "Question 2: Do you believe that the UFOs shown in the Pentagon's videos are evidence of extraterrestrial life?\n",
      "Question 3: How likely are you to trust the authenticity of videos released by the Pentagon?\n"
     ]
    }
   ],
   "source": [
    "for q in new_questions.questions:\n",
    "    print(f'Question {q.id}: {q.question}')"
   ]
  },
  {
   "cell_type": "code",
   "execution_count": 11,
   "metadata": {},
   "outputs": [
    {
     "data": {
      "text/html": [
       "<div>\n",
       "<style scoped>\n",
       "    .dataframe tbody tr th:only-of-type {\n",
       "        vertical-align: middle;\n",
       "    }\n",
       "\n",
       "    .dataframe tbody tr th {\n",
       "        vertical-align: top;\n",
       "    }\n",
       "\n",
       "    .dataframe thead th {\n",
       "        text-align: right;\n",
       "    }\n",
       "</style>\n",
       "<table border=\"1\" class=\"dataframe\">\n",
       "  <thead>\n",
       "    <tr style=\"text-align: right;\">\n",
       "      <th></th>\n",
       "      <th>isPanel</th>\n",
       "      <th>surveyCountry</th>\n",
       "      <th>surveyQuestion</th>\n",
       "      <th>surveyData</th>\n",
       "    </tr>\n",
       "  </thead>\n",
       "  <tbody>\n",
       "  </tbody>\n",
       "</table>\n",
       "</div>"
      ],
      "text/plain": [
       "Empty DataFrame\n",
       "Columns: [isPanel, surveyCountry, surveyQuestion, surveyData]\n",
       "Index: []"
      ]
     },
     "execution_count": 11,
     "metadata": {},
     "output_type": "execute_result"
    }
   ],
   "source": [
    "new_survey_questions = [q.question for q in new_questions.questions]\n",
    "\n",
    "new_reference_questions = []\n",
    "\n",
    "for q in new_survey_questions:\n",
    "    new_reference_questions.append(get_reference_questions(question=q, n=1, threshold=0.8))\n",
    "\n",
    "new_reference_questions = (pd.concat(new_reference_questions)\n",
    "                           .drop_duplicates()\n",
    "                           .reset_index(drop=True)\n",
    "                           )\n",
    "\n",
    "new_reference_questions"
   ]
  },
  {
   "cell_type": "markdown",
   "metadata": {},
   "source": [
    "In this case we can use the OpenAI API to generate the entire data structure necessary to create a query for an API that delivers results from a synthetic experiment.\n",
    "\n",
    "<img src=\"../reports/figures/diagram_experiment_simulator.PNG\" alt=\"sarcasm\" width=\"800\"/>"
   ]
  },
  {
   "cell_type": "code",
   "execution_count": 19,
   "metadata": {},
   "outputs": [],
   "source": [
    "new_target_question = 'Do you to trust the authenticity of videos released by the Pentagon?'"
   ]
  },
  {
   "cell_type": "code",
   "execution_count": 20,
   "metadata": {},
   "outputs": [],
   "source": [
    "experiment = generate_experiment(data = new_target_question)"
   ]
  },
  {
   "cell_type": "code",
   "execution_count": 27,
   "metadata": {},
   "outputs": [
    {
     "name": "stdout",
     "output_type": "stream",
     "text": [
      "{\n",
      "  \"id\": 1,\n",
      "  \"pre_cooked_levels_lookup\": [\n",
      "    \"Yes\",\n",
      "    \"No\"\n",
      "  ],\n",
      "  \"population_traits\": [\n",
      "    \"level of education\",\n",
      "    \"political affiliation\"\n",
      "  ],\n",
      "  \"chain_of_thought\": \"Trust in the authenticity of videos released by the Pentagon may be influenced by an individual's level of education and their political affiliation. Someone with higher education might be more critical and question the credibility, whereas political affiliation could influence trust based on the individual's perception of the government.\"\n",
      "}\n"
     ]
    }
   ],
   "source": [
    "print(experiment.model_dump_json(indent=2))"
   ]
  },
  {
   "cell_type": "markdown",
   "metadata": {},
   "source": [
    "Then we can use a Causal Experiment Simulator to create syntethic survey results like this:"
   ]
  },
  {
   "cell_type": "code",
   "execution_count": 29,
   "metadata": {},
   "outputs": [],
   "source": [
    "new_survey_context = \"Reference Question - Survey Country: United States, Survey Year: 2023, Survey Question: Do you to trust the authenticity of videos released by the Pentagon?, Survey Data: {'No': 0.4, 'Yes': 0.6}\"\n"
   ]
  },
  {
   "cell_type": "markdown",
   "metadata": {},
   "source": [
    "Finally we can create the blog post:"
   ]
  },
  {
   "cell_type": "code",
   "execution_count": 30,
   "metadata": {},
   "outputs": [],
   "source": [
    "new_response = rewrite_text(text=new_data, context=new_survey_context)"
   ]
  },
  {
   "cell_type": "code",
   "execution_count": 31,
   "metadata": {},
   "outputs": [
    {
     "name": "stdout",
     "output_type": "stream",
     "text": [
      "Alright folks, let's dive into the great unknown with a side of skepticism. The Pentagon has dropped some fresh UFO footage that's got everyone talking. But before you strap on your tinfoil hats,\n",
      "let's look at how much trust Americans place in these otherworldly releases. According to a recent 2023 survey, it turns out 60% of those polled in the United States are inclined to believe the\n",
      "Pentagon's videos are the real McCoy. Meanwhile, a not-insignificant 40% are giving the side-eye, casting doubt on the legitimacy of these extraterrestrial exposés. So, as the debate over little green\n",
      "men rages on, it's clear that while the majority may be on board with military-released footage, there's a substantial chunk who remain staunchly in the skeptic's corner. Keep your eyes on the skies,\n",
      "but maybe take what you see with a grain of interstellar salt.\n"
     ]
    }
   ],
   "source": [
    "print(textwrap.fill(new_response, 200, break_long_words=False, replace_whitespace=False))"
   ]
  }
 ],
 "metadata": {
  "kernelspec": {
   "display_name": "survey-it",
   "language": "python",
   "name": "python3"
  },
  "language_info": {
   "codemirror_mode": {
    "name": "ipython",
    "version": 3
   },
   "file_extension": ".py",
   "mimetype": "text/x-python",
   "name": "python",
   "nbconvert_exporter": "python",
   "pygments_lexer": "ipython3",
   "version": "3.11.7"
  }
 },
 "nbformat": 4,
 "nbformat_minor": 2
}
