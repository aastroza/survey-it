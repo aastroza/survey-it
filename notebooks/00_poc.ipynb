{
 "cells": [
  {
   "cell_type": "code",
   "execution_count": 35,
   "metadata": {},
   "outputs": [
    {
     "name": "stdout",
     "output_type": "stream",
     "text": [
      "The autoreload extension is already loaded. To reload it, use:\n",
      "  %reload_ext autoreload\n"
     ]
    }
   ],
   "source": [
    "import sys\n",
    "sys.path.append('..')\n",
    "from dotenv import load_dotenv\n",
    "load_dotenv()\n",
    "%load_ext autoreload\n",
    "%autoreload 2"
   ]
  },
  {
   "cell_type": "code",
   "execution_count": 66,
   "metadata": {},
   "outputs": [],
   "source": [
    "import pandas as pd\n",
    "\n",
    "from src.generate import generate_questions\n",
    "from src.search import get_reference_questions"
   ]
  },
  {
   "cell_type": "code",
   "execution_count": 37,
   "metadata": {},
   "outputs": [],
   "source": [
    "data = 'The president of United States likes to drink coffee in the morning.'"
   ]
  },
  {
   "cell_type": "code",
   "execution_count": 38,
   "metadata": {},
   "outputs": [],
   "source": [
    "questions = generate_questions(data=data)"
   ]
  },
  {
   "cell_type": "code",
   "execution_count": 39,
   "metadata": {},
   "outputs": [
    {
     "name": "stdout",
     "output_type": "stream",
     "text": [
      "Question 1: Do you like to drink coffee in the morning?\n",
      "Question 2: How important is it for you to have a routine morning beverage?\n",
      "Question 3: Does knowing the president's personal habits affect your view of them?\n"
     ]
    }
   ],
   "source": [
    "for q in questions.questions:\n",
    "    print(f'Question {q.id}: {q.question}')"
   ]
  },
  {
   "cell_type": "code",
   "execution_count": 40,
   "metadata": {},
   "outputs": [],
   "source": [
    "survey_questions = [q.question for q in questions.questions]"
   ]
  },
  {
   "cell_type": "code",
   "execution_count": 68,
   "metadata": {},
   "outputs": [],
   "source": [
    "reference_questions = []\n",
    "\n",
    "for q in survey_questions:\n",
    "    reference_questions.append(get_reference_questions(question=q, n=1, threshold=0.8))"
   ]
  },
  {
   "cell_type": "code",
   "execution_count": 71,
   "metadata": {},
   "outputs": [
    {
     "data": {
      "text/html": [
       "<div>\n",
       "<style scoped>\n",
       "    .dataframe tbody tr th:only-of-type {\n",
       "        vertical-align: middle;\n",
       "    }\n",
       "\n",
       "    .dataframe tbody tr th {\n",
       "        vertical-align: top;\n",
       "    }\n",
       "\n",
       "    .dataframe thead th {\n",
       "        text-align: right;\n",
       "    }\n",
       "</style>\n",
       "<table border=\"1\" class=\"dataframe\">\n",
       "  <thead>\n",
       "    <tr style=\"text-align: right;\">\n",
       "      <th></th>\n",
       "      <th>isPanel</th>\n",
       "      <th>surveyCountry</th>\n",
       "      <th>surveyQuestion</th>\n",
       "      <th>surveyData</th>\n",
       "    </tr>\n",
       "  </thead>\n",
       "  <tbody>\n",
       "    <tr>\n",
       "      <th>0</th>\n",
       "      <td>True</td>\n",
       "      <td>United States</td>\n",
       "      <td>In general, do you prefer hot coffee or iced c...</td>\n",
       "      <td>[{'Hot coffee': 0.73, 'Iced coffee': 0.27}, {'...</td>\n",
       "    </tr>\n",
       "    <tr>\n",
       "      <th>0</th>\n",
       "      <td>True</td>\n",
       "      <td>United States</td>\n",
       "      <td>Do you support the President?</td>\n",
       "      <td>[{'No': 0.45, 'Yes': 0.55}, {'No': 0.14, 'Yes'...</td>\n",
       "    </tr>\n",
       "  </tbody>\n",
       "</table>\n",
       "</div>"
      ],
      "text/plain": [
       "   isPanel  surveyCountry                                     surveyQuestion  \\\n",
       "0     True  United States  In general, do you prefer hot coffee or iced c...   \n",
       "0     True  United States                      Do you support the President?   \n",
       "\n",
       "                                          surveyData  \n",
       "0  [{'Hot coffee': 0.73, 'Iced coffee': 0.27}, {'...  \n",
       "0  [{'No': 0.45, 'Yes': 0.55}, {'No': 0.14, 'Yes'...  "
      ]
     },
     "execution_count": 71,
     "metadata": {},
     "output_type": "execute_result"
    }
   ],
   "source": [
    "reference_questions = pd.concat(reference_questions).drop_duplicates()\n",
    "reference_questions"
   ]
  },
  {
   "cell_type": "code",
   "execution_count": null,
   "metadata": {},
   "outputs": [],
   "source": []
  }
 ],
 "metadata": {
  "kernelspec": {
   "display_name": "survey-it",
   "language": "python",
   "name": "python3"
  },
  "language_info": {
   "codemirror_mode": {
    "name": "ipython",
    "version": 3
   },
   "file_extension": ".py",
   "mimetype": "text/x-python",
   "name": "python",
   "nbconvert_exporter": "python",
   "pygments_lexer": "ipython3",
   "version": "3.11.7"
  }
 },
 "nbformat": 4,
 "nbformat_minor": 2
}
